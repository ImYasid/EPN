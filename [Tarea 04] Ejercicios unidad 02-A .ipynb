{
 "cells": [
  {
   "cell_type": "code",
   "execution_count": null,
   "id": "6b87060b-ce90-425c-8d97-371785353ec9",
   "metadata": {},
   "outputs": [],
   "source": [
    "#EJERCICIO 3 - ABREVADERO\n",
    "import math\n",
    "\n",
    "def volumen_agua(h, r, L):\n",
    "    theta = 2 * math.acos((r - h) / r)\n",
    "    return (1/2) * L * (r**2 * theta - r * math.sin(theta)) - (1/2) * (r**2 * math.asin(h/r) - h * (r**2 - h**2)**0.5)\n",
    "\n",
    "L = 10  # cm\n",
    "r = 1   # cm\n",
    "V_objetivo = 12.4  # cm^3\n",
    "\n",
    "# Método de bisección\n",
    "def metodo_biseccion(V_objetivo, h_min, h_max, tol):\n",
    "    while (h_max - h_min) / 2.0 > tol:\n",
    "        h_medio = (h_min + h_max) / 2.0\n",
    "        if volumen_agua(h_medio, r, L) == V_objetivo:\n",
    "            return h_medio\n",
    "        elif volumen_agua(h_medio, r, L) < V_objetivo:\n",
    "            h_min = h_medio\n",
    "        else:\n",
    "            h_max = h_medio\n",
    "    return (h_min + h_max) / 2.0\n",
    "\n",
    "h_min = 0.0  # cm\n",
    "h_max = 2 * r  # cm, no puede ser mayor que el diámetro del semicírculo\n",
    "\n",
    "h = metodo_biseccion(V_objetivo, h_min, h_max, 0.01)\n",
    "print(f\"La profundidad del agua en el abrevadero es aproximadamente {h:.2f} cm\")"
   ]
  },
  {
   "cell_type": "code",
   "execution_count": null,
   "id": "ececa94b-ed16-4b01-8b7f-dc2088654341",
   "metadata": {},
   "outputs": [],
   "source": [
    "import numpy as np\n",
    "def altura(t):\n",
    "    return (-245.25*np.exp(-0.4*t)-24.525*t+545.25)\n",
    "\n",
    "def tiempoinicio(t):\n",
    "    return (-245.25*np.exp(-0.4*t)-24.525*t+545.25)-300"
   ]
  },
  {
   "cell_type": "code",
   "execution_count": null,
   "id": "d204e62f-b4ca-4475-a1a9-83a489605552",
   "metadata": {},
   "outputs": [],
   "source": [
    "import matplotlib.pyplot as plt\n",
    "# Generate x values\n",
    "x = np.linspace(0, 30, 200)\n",
    "\n",
    "# Calculate y values\n",
    "y1 = altura(x)\n",
    "y2 = tiempoinicio(x)\n",
    "# Plot the equation\n",
    "plt.plot(x, y1, label = '$s(t)$', color = 'green')\n",
    "plt.xlabel('t')\n",
    "plt.ylabel('s(t)')\n",
    "plt.title('Plot of $s(t)$')\n",
    "ax = plt.gca()\n",
    "ax.set_ylim([-100,420])\n",
    "ax.set_xlim([0, 30])\n",
    "plt.grid(True)\n",
    "# Marca los ejes coordenados\n",
    "plt.axhline(0, color='black',linewidth=0.5)\n",
    "plt.axvline(0, color='black',linewidth=0.5)\n",
    "plt.show()\n",
    "\n",
    "plt.plot(x, y2, label = '$s(t)-s_{0}$', color = 'red')\n",
    "plt.xlabel('t')\n",
    "plt.ylabel('$s(t)-s_{0}$')\n",
    "plt.title('Plot of $s(t)-s_{0}$')\n",
    "ax = plt.gca()\n",
    "ax.set_ylim([-100,110])\n",
    "ax.set_xlim([0, 15])\n",
    "plt.grid(True)\n",
    "# Marca los ejes coordenados\n",
    "plt.axhline(0, color='black',linewidth=0.5)\n",
    "plt.axvline(0, color='black',linewidth=0.5)\n",
    "plt.savefig('GraficoEA2.jpg')\n",
    "plt.show()"
   ]
  },
  {
   "cell_type": "code",
   "execution_count": null,
   "id": "43ee9481-4ee3-48f3-b772-8eda675fc8f4",
   "metadata": {},
   "outputs": [],
   "source": [
    "from typing import Callable\n",
    "def sign(x: float) -> int:\n",
    "    if x > 0:\n",
    "        return 1\n",
    "    elif x < 0:\n",
    "        return -1\n",
    "    else:\n",
    "        return 0"
   ]
  },
  {
   "cell_type": "code",
   "execution_count": null,
   "id": "a4eb3890-9624-487c-8e1a-0b00455d90df",
   "metadata": {},
   "outputs": [],
   "source": [
    "def bisection(\n",
    "    a: float, b: float, *, equation: Callable[[float], float], tol: float, N: int\n",
    ") -> tuple[float, float, float, int] | None:\n",
    "    i = 1\n",
    "    assert a < b, \"a not lower than b, the interval is not valid.\"\n",
    "\n",
    "    assert (equation(a) * equation(b) < 0), \"The function does not change sign over the interval.\"\n",
    "\n",
    "    Fa = equation(a)\n",
    "    p = a # to avoid crash in i == 0.\n",
    "    for i in range(N):\n",
    "        p = a + (b - a) / 2\n",
    "        FP = equation(p)\n",
    "        if FP == 0 or (b - a) / 2 < tol:\n",
    "            return p, a, b, i\n",
    "\n",
    "        if sign(Fa) * sign(FP) > 0:\n",
    "            a = p\n",
    "            Fa = FP\n",
    "        else:\n",
    "            b = p\n",
    "    print(\"Solución no encontrada, número de iteraciones insuficiente para la tolerancia dada.\")"
   ]
  },
  {
   "cell_type": "code",
   "execution_count": null,
   "id": "70877a28-fd4e-49a5-b1e8-29e04d7ac336",
   "metadata": {},
   "outputs": [],
   "source": [
    "a = 1\n",
    "b = 20\n",
    "tol = 10**(-2)\n",
    "result1 = bisection(a=a,b=b,equation=tiempoinicio,tol=tol,N=20)\n",
    "print(\"El tiempo que pasó antes de empezar su caída libre es: \"+format(result1[0],\".5\")+\" segundos\") "
   ]
  },
  {
   "cell_type": "code",
   "execution_count": null,
   "id": "03b2dbb3-5e9c-4c93-bd57-365a9745f671",
   "metadata": {},
   "outputs": [],
   "source": [
    "a = 1\n",
    "b = 30\n",
    "tol = 10**(-2)\n",
    "result2 = bisection(a=a,b=b,equation=altura,tol=tol,N=20)\n",
    "print(\"El tiempo en que llega al suelo desde que se lanzó es: \"+format(result2[0],\".5\")+\" segundos\") "
   ]
  },
  {
   "cell_type": "code",
   "execution_count": 6,
   "id": "d8c44447-7a89-4c19-9d2b-91409863425a",
   "metadata": {},
   "outputs": [
    {
     "ename": "NameError",
     "evalue": "name 'a' is not defined",
     "output_type": "error",
     "traceback": [
      "\u001b[1;31m---------------------------------------------------------------------------\u001b[0m",
      "\u001b[1;31mNameError\u001b[0m                                 Traceback (most recent call last)",
      "Cell \u001b[1;32mIn[6], line 37\u001b[0m\n\u001b[0;32m     35\u001b[0m b \u001b[38;5;241m=\u001b[39m \u001b[38;5;241m2\u001b[39m\n\u001b[0;32m     36\u001b[0m tol \u001b[38;5;241m=\u001b[39m \u001b[38;5;241m10\u001b[39m\u001b[38;5;241m*\u001b[39m\u001b[38;5;241m*\u001b[39m(\u001b[38;5;241m-\u001b[39m\u001b[38;5;241m4\u001b[39m)\n\u001b[1;32m---> 37\u001b[0m result \u001b[38;5;241m=\u001b[39m bisection(a\u001b[38;5;241m=\u001b[39ma,b\u001b[38;5;241m=\u001b[39mb,equation\u001b[38;5;241m=\u001b[39mequation,tol\u001b[38;5;241m=\u001b[39mtol,N\u001b[38;5;241m=\u001b[39m\u001b[38;5;241m20\u001b[39m)\n\u001b[0;32m     38\u001b[0m \u001b[38;5;28mprint\u001b[39m(\u001b[38;5;124m\"\u001b[39m\u001b[38;5;124mLuego de \u001b[39m\u001b[38;5;124m\"\u001b[39m\u001b[38;5;241m+\u001b[39m\u001b[38;5;28mstr\u001b[39m(result[\u001b[38;5;241m3\u001b[39m])\u001b[38;5;241m+\u001b[39m \u001b[38;5;124m\"\u001b[39m\u001b[38;5;124m iteraciones la solución aproximada dentro de la presición de \u001b[39m\u001b[38;5;124m\"\u001b[39m\u001b[38;5;241m+\u001b[39m\u001b[38;5;28mformat\u001b[39m(tol,\u001b[38;5;124m\"\u001b[39m\u001b[38;5;124m.0E\u001b[39m\u001b[38;5;124m\"\u001b[39m)\u001b[38;5;241m+\u001b[39m\u001b[38;5;124m\"\u001b[39m\u001b[38;5;124m es: \u001b[39m\u001b[38;5;124m\"\u001b[39m\u001b[38;5;241m+\u001b[39m\u001b[38;5;28mformat\u001b[39m(result[\u001b[38;5;241m0\u001b[39m],\u001b[38;5;124m\"\u001b[39m\u001b[38;5;124m.5\u001b[39m\u001b[38;5;124m\"\u001b[39m))\n",
      "\u001b[1;31mNameError\u001b[0m: name 'a' is not defined"
     ]
    }
   ],
   "source": [
    "import numpy as np\n",
    "def equation(x):\n",
    "    return (x**3-x-1)\n",
    "from typing import Callable\n",
    "def sign(x: float) -> int:\n",
    "    if x > 0:\n",
    "        return 1\n",
    "    elif x < 0:\n",
    "        return -1\n",
    "    else:\n",
    "        return 0\n",
    "def bisection(\n",
    "    a: float, b: float, *, equation: Callable[[float], float], tol: float, N: int\n",
    ") -> tuple[float, float, float, int] | None:\n",
    "    i = 1\n",
    "    assert a < b, \"a not lower than b, the interval is not valid.\"\n",
    "\n",
    "    assert (equation(a) * equation(b) < 0), \"The function does not change sign over the interval.\"\n",
    "\n",
    "    Fa = equation(a)\n",
    "    p = a # to avoid crash in i == 0.\n",
    "    for i in range(1,N+1):\n",
    "        p = a + (b - a) / 2\n",
    "        FP = equation(p)\n",
    "        if FP == 0 or (b - a) / 2 < tol:\n",
    "            return p, a, b, i\n",
    "\n",
    "        if sign(Fa) * sign(FP) > 0:\n",
    "            a = p\n",
    "            Fa = FP\n",
    "        else:\n",
    "            b = p\n",
    "    print(\"Solución no encontrada, número de iteraciones insuficiente para la tolerancia dada.\")\n",
    "    a = 1\n",
    "b = 2\n",
    "tol = 10**(-4)\n",
    "result = bisection(a=a,b=b,equation=equation,tol=tol,N=20)\n",
    "print(\"Luego de \"+str(result[3])+ \" iteraciones la solución aproximada dentro de la presición de \"+format(tol,\".0E\")+\" es: \"+format(result[0],\".5\")) "
   ]
  },
  {
   "cell_type": "code",
   "execution_count": null,
   "id": "604acbd9-0c79-4062-8fd2-f92b3fc74d14",
   "metadata": {},
   "outputs": [],
   "source": []
  }
 ],
 "metadata": {
  "kernelspec": {
   "display_name": "Python 3 (ipykernel)",
   "language": "python",
   "name": "python3"
  },
  "language_info": {
   "codemirror_mode": {
    "name": "ipython",
    "version": 3
   },
   "file_extension": ".py",
   "mimetype": "text/x-python",
   "name": "python",
   "nbconvert_exporter": "python",
   "pygments_lexer": "ipython3",
   "version": "3.12.4"
  }
 },
 "nbformat": 4,
 "nbformat_minor": 5
}
