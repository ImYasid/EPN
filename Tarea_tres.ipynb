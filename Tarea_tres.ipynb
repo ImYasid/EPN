{
 "cells": [
  {
   "cell_type": "code",
   "execution_count": 2,
   "id": "ff881989-a72d-4e4c-9638-ac0fa498d411",
   "metadata": {},
   "outputs": [
    {
     "name": "stdout",
     "output_type": "stream",
     "text": [
      "Suma en orden ascendente: 1.5490000000000002\n",
      "Suma en orden descendente: 1.549\n"
     ]
    }
   ],
   "source": [
    "#EJERCICIO UNO - PARTE A\n",
    "def suma_ascendente():\n",
    "    suma_asc = 0\n",
    "    for i in range(1, 11):\n",
    "        suma_asc += round(1 / (i**2), 3)  # Corte a tres dígitos\n",
    "    return suma_asc\n",
    "\n",
    "# Suma en orden descendente\n",
    "def suma_descendente():\n",
    "    suma_desc = 0\n",
    "    for i in range(10, 0, -1):\n",
    "        suma_desc += round(1 / (i**2), 3)  # Corte a tres dígitos\n",
    "    return suma_desc\n",
    "\n",
    "print(\"Suma en orden ascendente:\", suma_ascendente())\n",
    "print(\"Suma en orden descendente:\", suma_descendente())\n"
   ]
  },
  {
   "cell_type": "code",
   "execution_count": 4,
   "id": "4e1b43f2-1ee2-46de-a9c5-4ca8c9ba9ce3",
   "metadata": {},
   "outputs": [
    {
     "name": "stdout",
     "output_type": "stream",
     "text": [
      "Suma en orden ascendente de cubos: 1.1979999999999995\n",
      "Suma en orden descendente de cubos: 1.198\n"
     ]
    }
   ],
   "source": [
    "#EJERCICIO UNO - PARTE B\n",
    "def suma_ascendente_cubos():\n",
    "    suma_asc = 0\n",
    "    for i in range(1, 11):\n",
    "        suma_asc += round(1 / (i**3), 3)  # Corte a tres dígitos\n",
    "    return suma_asc\n",
    "\n",
    "def suma_descendente_cubos():\n",
    "    suma_desc = 0\n",
    "    for i in range(10, 0, -1):\n",
    "        suma_desc += round(1 / (i**3), 3)  # Corte a tres dígitos\n",
    "    return suma_desc\n",
    "\n",
    "print(\"Suma en orden ascendente de cubos:\", suma_ascendente_cubos())\n",
    "print(\"Suma en orden descendente de cubos:\", suma_descendente_cubos())\n"
   ]
  },
  {
   "cell_type": "code",
   "execution_count": null,
   "id": "3149dc0b-5538-4e95-81b7-b1d16d86afa0",
   "metadata": {},
   "outputs": [],
   "source": [
    "#EJERCICIO DOS - PARTE A\n",
    "import math\n",
    "\n",
    "def maclaurin_pi(tolerance=1e-3):\n",
    "    n = 1\n",
    "    pi_approx = 0\n",
    "    while abs(4 * pi_approx - math.pi) >= tolerance:\n",
    "        term = ((-1)**(n + 1) * (1**(2 * n - 1))) / (2 * n - 1)\n",
    "        pi_approx += term\n",
    "        n += 1\n",
    "    return n\n",
    "\n",
    "print(\"Número de términos necesarios para 10^-3:\", maclaurin_pi())"
   ]
  },
  {
   "cell_type": "code",
   "execution_count": null,
   "id": "5b86a5c7-35e3-4726-b236-d4032328f528",
   "metadata": {},
   "outputs": [],
   "source": [
    "#EJERCICIO DOS - PARTE B\n",
    "print(\"Número de términos necesarios para 10^-10:\", maclaurin_pi(1e-10))"
   ]
  },
  {
   "cell_type": "code",
   "execution_count": null,
   "id": "69a20dbd-9abf-4286-a86b-d31fa6f7562d",
   "metadata": {},
   "outputs": [],
   "source": [
    "def calcular_pi(tolerance=1e-3):\n",
    "    n = 1\n",
    "    pi_approx = 0\n",
    "    while abs(pi_approx - math.pi / 4) >= tolerance:\n",
    "        term1 = ((-1)**(n + 1) * (1 / 5)**(2 * n - 1)) / (2 * n - 1)\n",
    "        term2 = ((-1)**(n + 1) * (1 / 239)**(2 * n - 1)) / (2 * n - 1)\n",
    "        pi_approx += 4 * term1 - term2\n",
    "        n += 1\n",
    "    return n\n",
    "\n",
    "print(\"Número de términos necesarios para 10^-3:\", calcular_pi())"
   ]
  },
  {
   "cell_type": "code",
   "execution_count": null,
   "id": "1e4ec9fd-c9c0-47a1-918a-65d275d31418",
   "metadata": {},
   "outputs": [],
   "source": [
    "#EJERCICIO TRES\n",
    "def producto_4a(n, x):\n",
    "    product = 0\n",
    "    for i in range(n):\n",
    "        product *= x[i]\n",
    "    return product\n",
    "\n",
    "# Ejemplo de uso\n",
    "x = [2, 3, 4]\n",
    "print(\"Producto usando el algoritmo 4a:\", producto_4a(len(x), x))\n"
   ]
  },
  {
   "cell_type": "code",
   "execution_count": null,
   "id": "2e25c73b-0c60-427d-a89b-00c028e049b8",
   "metadata": {},
   "outputs": [],
   "source": [
    "#EJERCICIO CUATRO - PARTE A\n",
    "def producto_4b(n, x):\n",
    "    product = 1\n",
    "    for i in range(n):\n",
    "        product *= x[i]\n",
    "    return product\n",
    "\n",
    "print(\"Producto usando el algoritmo 4b:\", producto_4b(len(x), x))\n"
   ]
  },
  {
   "cell_type": "code",
   "execution_count": null,
   "id": "5d49312c-2434-4c69-9237-4d7612832444",
   "metadata": {},
   "outputs": [],
   "source": [
    "#EJERCICIO CUATRO - PARTE B\n",
    "def producto_4c(n, x):\n",
    "    product = 1\n",
    "    for i in range(n):\n",
    "        if x[i] == 0:\n",
    "            return 0\n",
    "        product *= x[i]\n",
    "    return product\n",
    "\n",
    "print(\"Producto usando el algoritmo 4c:\", producto_4c(len(x), x))"
   ]
  },
  {
   "cell_type": "code",
   "execution_count": null,
   "id": "76827913-3ed3-4286-aa73-3b199d95474f",
   "metadata": {},
   "outputs": [],
   "source": [
    "#EJERCICIO CUATRO - PARTE C\n",
    "def suma_doble(a, b):\n",
    "    n = len(a)\n",
    "    suma = 0\n",
    "    for i in range(n):\n",
    "        for j in range(n):\n",
    "            suma += a[i] * b[j]\n",
    "    return suma\n",
    "\n",
    "# Ejemplo de uso\n",
    "a = [1, 2, 3]\n",
    "b = [4, 5, 6]\n",
    "print(\"Suma doble:\", suma_doble(a, b))\n"
   ]
  },
  {
   "cell_type": "code",
   "execution_count": null,
   "id": "df89be75-1291-43eb-ab1e-7d9563b5436b",
   "metadata": {},
   "outputs": [],
   "source": [
    "#EJERCICIO CINCO - PARTE A\n",
    "def suma_doble_optimizada(a, b):\n",
    "    n = len(a)\n",
    "    suma = 0\n",
    "    for i in range(n):\n",
    "        temp = a[i]\n",
    "        for j in range(n):\n",
    "            suma += temp * b[j]\n",
    "    return suma\n",
    "\n",
    "print(\"Suma doble optimizada:\", suma_doble_optimizada(a, b))\n"
   ]
  },
  {
   "cell_type": "code",
   "execution_count": null,
   "id": "a000f533-0611-48de-859a-65bb67f3811f",
   "metadata": {},
   "outputs": [],
   "source": [
    "#EJERCICIO CUATRO - PARTE B\n",
    "def suma_inversa(x):\n",
    "    suma = 0\n",
    "    for i in range(len(x)-1, -1, -1):\n",
    "        suma += x[i]\n",
    "    return suma\n",
    "\n",
    "# Ejemplo de uso\n",
    "x = [1, 2, 3, 4, 5]\n",
    "print(\"Suma inversa:\", suma_inversa(x))\n"
   ]
  },
  {
   "cell_type": "code",
   "execution_count": null,
   "id": "8d9b14d5-5e93-4d2d-befa-f435f224358f",
   "metadata": {},
   "outputs": [],
   "source": [
    "#EJERCICIO OCHO\n",
    "def raices_cuadraticas(a, b, c):\n",
    "    discriminante = b**2 - 4 * a * c\n",
    "    if discriminante >= 0:\n",
    "        if b > 0:\n",
    "            x1 = (-b - math.sqrt(discriminante)) / (2 * a)\n",
    "        else:\n",
    "            x1 = (-b + math.sqrt(discriminante)) / (2 * a)\n",
    "        x2 = c / (a * x1)\n",
    "        return x1, x2\n",
    "    else:\n",
    "        return \"Raíces complejas o conjugadas\"\n",
    "\n",
    "# Ejemplo de uso\n",
    "a, b, c = 1, -3, 2\n",
    "print(\"Raíces cuadráticas:\", raices_cuadraticas(a, b, c))\n"
   ]
  },
  {
   "cell_type": "code",
   "execution_count": 6,
   "id": "5d57beb1-d6ed-46c1-91d3-005e5ab638a6",
   "metadata": {},
   "outputs": [
    {
     "name": "stdout",
     "output_type": "stream",
     "text": [
      "Número de términos necesarios: 4\n"
     ]
    }
   ],
   "source": [
    "#EJERCICIO NUEVE\n",
    "def calcular_terminos(tol=1e-6, x=0.25):\n",
    "    lado_derecho = (1 + 2 * x) / (1 + x + x**2)\n",
    "    lado_izquierdo = 0\n",
    "    n = 0\n",
    "    diferencia = 1  # Iniciar con un valor mayor que TOL\n",
    "\n",
    "    while diferencia > tol:\n",
    "        termino = ((2**n) * x**(2**n - 1) - (2**(n+1)) * x**(2**(n+1) - 1)) / (1 - x**(2**n) + x**(2**(n+1)))\n",
    "        lado_izquierdo += termino\n",
    "        diferencia = abs(lado_derecho - lado_izquierdo)\n",
    "        n += 1\n",
    "\n",
    "    return n\n",
    "\n",
    "print(\"Número de términos necesarios:\", calcular_terminos())\n"
   ]
  },
  {
   "cell_type": "code",
   "execution_count": null,
   "id": "88581755-568a-429a-8c84-8ff39c425984",
   "metadata": {},
   "outputs": [],
   "source": []
  }
 ],
 "metadata": {
  "kernelspec": {
   "display_name": "Python 3 (ipykernel)",
   "language": "python",
   "name": "python3"
  },
  "language_info": {
   "codemirror_mode": {
    "name": "ipython",
    "version": 3
   },
   "file_extension": ".py",
   "mimetype": "text/x-python",
   "name": "python",
   "nbconvert_exporter": "python",
   "pygments_lexer": "ipython3",
   "version": "3.12.4"
  }
 },
 "nbformat": 4,
 "nbformat_minor": 5
}
